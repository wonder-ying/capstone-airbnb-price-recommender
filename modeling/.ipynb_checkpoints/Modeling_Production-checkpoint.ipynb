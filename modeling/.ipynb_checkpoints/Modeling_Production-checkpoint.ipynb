{
 "cells": [
  {
   "cell_type": "code",
   "execution_count": 1,
   "metadata": {},
   "outputs": [],
   "source": [
    "import pandas as pd\n",
    "import numpy as np\n",
    "import matplotlib.pyplot as plt\n",
    "import seaborn as sns\n",
    "import statsmodels.api as sm\n",
    "import statsmodels.formula.api as smf\n",
    "import patsy\n",
    "import sklearn\n",
    "from sklearn.linear_model import LinearRegression, Lasso, LassoCV, Ridge, RidgeCV, ElasticNetCV\n",
    "from sklearn.model_selection import train_test_split\n",
    "from sklearn.pipeline import Pipeline\n",
    "from sklearn.preprocessing import StandardScaler, OneHotEncoder\n",
    "from sklearn.impute import SimpleImputer\n",
    "from sklearn.compose import ColumnTransformer\n",
    "from sklearn.preprocessing import PolynomialFeatures\n",
    "from sklearn import metrics\n",
    "from sklearn.model_selection import KFold\n",
    "from sklearn.model_selection import cross_val_score\n",
    "from sklearn.metrics import explained_variance_score, mean_squared_error, mean_absolute_error, r2_score\n",
    "from sklearn.ensemble import RandomForestRegressor\n",
    "from sklearn.model_selection import GridSearchCV\n",
    "\n",
    "import pickle\n",
    "import xgboost as xgb\n",
    "from xgboost import plot_importance\n",
    "\n",
    "%matplotlib inline\n",
    "\n",
    "import warnings\n",
    "warnings.filterwarnings('ignore')"
   ]
  },
  {
   "cell_type": "code",
   "execution_count": 2,
   "metadata": {},
   "outputs": [],
   "source": [
    "df = pd.read_pickle('processed_data.pk1')"
   ]
  },
  {
   "cell_type": "code",
   "execution_count": 3,
   "metadata": {},
   "outputs": [
    {
     "data": {
      "text/plain": [
       "100%       3231\n",
       "unknown    2047\n",
       "90-99%      577\n",
       "50-89%      421\n",
       "0-49%       132\n",
       "Name: host_response_rate, dtype: int64"
      ]
     },
     "execution_count": 3,
     "metadata": {},
     "output_type": "execute_result"
    }
   ],
   "source": [
    "df.host_response_rate.value_counts()"
   ]
  },
  {
   "cell_type": "code",
   "execution_count": 4,
   "metadata": {},
   "outputs": [],
   "source": [
    "df = df[['price','borough', 'instant_bookable', 'room_type', 'property_type',\n",
    "        'host_is_superhost', 'host_total_listings_count',\n",
    "        'accommodates', 'bedrooms', 'bathrooms',\n",
    "        'minimum_nights', 'maximum_nights', 'security_deposit', 'cleaning_fee', 'coffee_machine', 'outdoor_space']]"
   ]
  },
  {
   "cell_type": "code",
   "execution_count": 5,
   "metadata": {},
   "outputs": [
    {
     "data": {
      "text/html": [
       "<div>\n",
       "<style scoped>\n",
       "    .dataframe tbody tr th:only-of-type {\n",
       "        vertical-align: middle;\n",
       "    }\n",
       "\n",
       "    .dataframe tbody tr th {\n",
       "        vertical-align: top;\n",
       "    }\n",
       "\n",
       "    .dataframe thead th {\n",
       "        text-align: right;\n",
       "    }\n",
       "</style>\n",
       "<table border=\"1\" class=\"dataframe\">\n",
       "  <thead>\n",
       "    <tr style=\"text-align: right;\">\n",
       "      <th></th>\n",
       "      <th>price</th>\n",
       "      <th>borough</th>\n",
       "      <th>instant_bookable</th>\n",
       "      <th>room_type</th>\n",
       "      <th>property_type</th>\n",
       "      <th>host_is_superhost</th>\n",
       "      <th>host_total_listings_count</th>\n",
       "      <th>accommodates</th>\n",
       "      <th>bedrooms</th>\n",
       "      <th>bathrooms</th>\n",
       "      <th>minimum_nights</th>\n",
       "      <th>maximum_nights</th>\n",
       "      <th>security_deposit</th>\n",
       "      <th>cleaning_fee</th>\n",
       "      <th>coffee_machine</th>\n",
       "      <th>outdoor_space</th>\n",
       "    </tr>\n",
       "  </thead>\n",
       "  <tbody>\n",
       "    <tr>\n",
       "      <th>0</th>\n",
       "      <td>296.0</td>\n",
       "      <td>Madrona</td>\n",
       "      <td>1</td>\n",
       "      <td>Entire home/apt</td>\n",
       "      <td>House</td>\n",
       "      <td>1</td>\n",
       "      <td>2.0</td>\n",
       "      <td>9</td>\n",
       "      <td>4.0</td>\n",
       "      <td>2.5</td>\n",
       "      <td>1</td>\n",
       "      <td>1125</td>\n",
       "      <td>500.0</td>\n",
       "      <td>250.0</td>\n",
       "      <td>1.0</td>\n",
       "      <td>1.0</td>\n",
       "    </tr>\n",
       "    <tr>\n",
       "      <th>1</th>\n",
       "      <td>62.0</td>\n",
       "      <td>Georgetown</td>\n",
       "      <td>0</td>\n",
       "      <td>Private room</td>\n",
       "      <td>Apartment</td>\n",
       "      <td>1</td>\n",
       "      <td>8.0</td>\n",
       "      <td>2</td>\n",
       "      <td>1.0</td>\n",
       "      <td>3.0</td>\n",
       "      <td>2</td>\n",
       "      <td>180</td>\n",
       "      <td>100.0</td>\n",
       "      <td>20.0</td>\n",
       "      <td>1.0</td>\n",
       "      <td>0.0</td>\n",
       "    </tr>\n",
       "    <tr>\n",
       "      <th>2</th>\n",
       "      <td>165.0</td>\n",
       "      <td>Fairmount Park</td>\n",
       "      <td>0</td>\n",
       "      <td>Entire home/apt</td>\n",
       "      <td>House</td>\n",
       "      <td>1</td>\n",
       "      <td>2.0</td>\n",
       "      <td>4</td>\n",
       "      <td>2.0</td>\n",
       "      <td>1.0</td>\n",
       "      <td>3</td>\n",
       "      <td>730</td>\n",
       "      <td>400.0</td>\n",
       "      <td>120.0</td>\n",
       "      <td>1.0</td>\n",
       "      <td>1.0</td>\n",
       "    </tr>\n",
       "    <tr>\n",
       "      <th>3</th>\n",
       "      <td>125.0</td>\n",
       "      <td>Fairmount Park</td>\n",
       "      <td>0</td>\n",
       "      <td>Entire home/apt</td>\n",
       "      <td>Other</td>\n",
       "      <td>1</td>\n",
       "      <td>2.0</td>\n",
       "      <td>3</td>\n",
       "      <td>2.0</td>\n",
       "      <td>1.0</td>\n",
       "      <td>2</td>\n",
       "      <td>365</td>\n",
       "      <td>400.0</td>\n",
       "      <td>95.0</td>\n",
       "      <td>1.0</td>\n",
       "      <td>1.0</td>\n",
       "    </tr>\n",
       "    <tr>\n",
       "      <th>4</th>\n",
       "      <td>120.0</td>\n",
       "      <td>Wallingford</td>\n",
       "      <td>0</td>\n",
       "      <td>Entire home/apt</td>\n",
       "      <td>Apartment</td>\n",
       "      <td>0</td>\n",
       "      <td>5.0</td>\n",
       "      <td>4</td>\n",
       "      <td>1.0</td>\n",
       "      <td>1.0</td>\n",
       "      <td>30</td>\n",
       "      <td>60</td>\n",
       "      <td>200.0</td>\n",
       "      <td>85.0</td>\n",
       "      <td>1.0</td>\n",
       "      <td>1.0</td>\n",
       "    </tr>\n",
       "  </tbody>\n",
       "</table>\n",
       "</div>"
      ],
      "text/plain": [
       "   price         borough  instant_bookable        room_type property_type  \\\n",
       "0  296.0         Madrona                 1  Entire home/apt         House   \n",
       "1   62.0      Georgetown                 0     Private room     Apartment   \n",
       "2  165.0  Fairmount Park                 0  Entire home/apt         House   \n",
       "3  125.0  Fairmount Park                 0  Entire home/apt         Other   \n",
       "4  120.0     Wallingford                 0  Entire home/apt     Apartment   \n",
       "\n",
       "   host_is_superhost  host_total_listings_count  accommodates  bedrooms  \\\n",
       "0                  1                        2.0             9       4.0   \n",
       "1                  1                        8.0             2       1.0   \n",
       "2                  1                        2.0             4       2.0   \n",
       "3                  1                        2.0             3       2.0   \n",
       "4                  0                        5.0             4       1.0   \n",
       "\n",
       "   bathrooms  minimum_nights  maximum_nights  security_deposit  cleaning_fee  \\\n",
       "0        2.5               1            1125             500.0         250.0   \n",
       "1        3.0               2             180             100.0          20.0   \n",
       "2        1.0               3             730             400.0         120.0   \n",
       "3        1.0               2             365             400.0          95.0   \n",
       "4        1.0              30              60             200.0          85.0   \n",
       "\n",
       "   coffee_machine  outdoor_space  \n",
       "0             1.0            1.0  \n",
       "1             1.0            0.0  \n",
       "2             1.0            1.0  \n",
       "3             1.0            1.0  \n",
       "4             1.0            1.0  "
      ]
     },
     "execution_count": 5,
     "metadata": {},
     "output_type": "execute_result"
    }
   ],
   "source": [
    "df.head()"
   ]
  },
  {
   "cell_type": "code",
   "execution_count": 6,
   "metadata": {},
   "outputs": [],
   "source": [
    "# Establishting data sets for training\n",
    "X = df.drop('price', axis=1)\n",
    "y = df['price']\n",
    "# Train_test split\n",
    "X_train, X_test, y_train, y_test = train_test_split(X, y, test_size = 0.2)"
   ]
  },
  {
   "cell_type": "code",
   "execution_count": 7,
   "metadata": {},
   "outputs": [],
   "source": [
    "# Preprocess\n",
    "num_col = X.select_dtypes(include=['int64', 'float64']).columns\n",
    "cat_col = X.select_dtypes(include=['object']).columns\n",
    "\n",
    "num_transformer = Pipeline([\n",
    "    ('imputer', SimpleImputer(strategy='median')),\n",
    "    ('scalar', StandardScaler())\n",
    "])\n",
    "\n",
    "cat_transformer = Pipeline([\n",
    "    ('imputer', SimpleImputer(strategy='most_frequent', fill_value='unknown')),\n",
    "    ('onehot', OneHotEncoder(handle_unknown='ignore'))\n",
    "])\n",
    "\n",
    "preprocessor = ColumnTransformer([\n",
    "    ('num', num_transformer, num_col),\n",
    "    ('cat', cat_transformer, cat_col)\n",
    "])"
   ]
  },
  {
   "cell_type": "code",
   "execution_count": 8,
   "metadata": {},
   "outputs": [],
   "source": [
    "def print_matrix(train_pred, test_pred):\n",
    "    print('\\nTraining r2: ', round(r2_score(y_train, train_pred), 4))\n",
    "    print('Testing r2: ', round(r2_score(y_test, test_pred), 4))\n",
    "    print('\\nTraining MSE: ', round(mean_squared_error(y_train, train_pred), 4))\n",
    "    print('Testing MSE: ', round(mean_squared_error(y_test, test_pred), 4))"
   ]
  },
  {
   "cell_type": "code",
   "execution_count": 20,
   "metadata": {},
   "outputs": [],
   "source": [
    "kf = KFold(n_splits=5, shuffle=True, random_state = 42)\n",
    "alphavec = 10**np.linspace(-3, 3, 100)"
   ]
  },
  {
   "cell_type": "code",
   "execution_count": 74,
   "metadata": {},
   "outputs": [
    {
     "name": "stdout",
     "output_type": "stream",
     "text": [
      "alpha:  4.328761281083062\n",
      "\n",
      "Training r2:  0.5519\n",
      "Testing r2:  0.5345\n",
      "\n",
      "Training MSE:  3200.6786\n",
      "Testing MSE:  3735.7474\n"
     ]
    }
   ],
   "source": [
    "# Ridge regressor\n",
    "ridge_est = Pipeline([\n",
    "    ('preprocessor', preprocessor),\n",
    "    ('ridge', RidgeCV(alphas = alphavec, cv=kf))\n",
    "])\n",
    "\n",
    "ridge_est.fit(X_train, y_train)\n",
    "ridge_train_pred = ridge_est.predict(X_train)\n",
    "ridge_test_pred = ridge_est.predict(X_test)\n",
    "print('alpha: ', ridge_est[1].alpha_)\n",
    "print_matrix(ridge_train_pred, ridge_test_pred)"
   ]
  },
  {
   "cell_type": "code",
   "execution_count": 9,
   "metadata": {},
   "outputs": [],
   "source": [
    "# Random Forest Regression\n",
    "rf_est = Pipeline([\n",
    "    ('preprocessor', preprocessor),\n",
    "    ('rf', RandomForestRegressor(random_state=42, n_estimators=500, \n",
    "                                 max_depth=25, min_samples_leaf=1, min_samples_split=2))\n",
    "])"
   ]
  },
  {
   "cell_type": "code",
   "execution_count": null,
   "metadata": {},
   "outputs": [],
   "source": [
    "rf_est.fit(X_train, y_train)"
   ]
  },
  {
   "cell_type": "code",
   "execution_count": 22,
   "metadata": {},
   "outputs": [
    {
     "name": "stdout",
     "output_type": "stream",
     "text": [
      "\n",
      "Training r2:  0.9382\n",
      "Testing r2:  0.6246\n",
      "\n",
      "Training MSE:  453.339\n",
      "Testing MSE:  2731.6298\n"
     ]
    }
   ],
   "source": [
    "param_grid = {'rf__n_estimators': [500],\n",
    "              'rf__max_depth': [25],\n",
    "              'rf__min_samples_leaf': [1],\n",
    "              'rf__min_samples_split': [2],\n",
    "             }\n",
    "\n",
    "g_est = GridSearchCV(rf_est,\n",
    "                     n_jobs=5,\n",
    "                    param_grid=param_grid,\n",
    "                    cv=kf)\n",
    "\n",
    "g_est.fit(X_train, y_train)\n",
    "rf_train_pred = g_est.predict(X_train)\n",
    "rf_test_pred = g_est.predict(X_test)\n",
    "print_matrix(rf_train_pred, rf_test_pred)"
   ]
  },
  {
   "cell_type": "code",
   "execution_count": 84,
   "metadata": {},
   "outputs": [
    {
     "data": {
      "text/plain": [
       "{'rf__max_depth': 25,\n",
       " 'rf__min_samples_leaf': 1,\n",
       " 'rf__min_samples_split': 2,\n",
       " 'rf__n_estimators': 500}"
      ]
     },
     "execution_count": 84,
     "metadata": {},
     "output_type": "execute_result"
    }
   ],
   "source": [
    "g_est.best_params_"
   ]
  },
  {
   "cell_type": "code",
   "execution_count": 24,
   "metadata": {},
   "outputs": [
    {
     "data": {
      "image/png": "[encoded data removed]",
      "text/plain": [
       "<Figure size 720x576 with 1 Axes>"
      ]
     },
     "metadata": {
      "needs_background": "light"
     },
     "output_type": "display_data"
    }
   ],
   "source": [
    "# Plot actual vs predicted\n",
    "plt.figure(figsize=(10, 8))\n",
    "plt.plot([0,500], [0,500], c='#FF5A5F')\n",
    "plt.scatter(rf_test_pred, y_test, color='#FF585D', alpha=0.3)\n",
    "sns.despine()\n",
    "plt.ylabel('Actual Price', size=15)\n",
    "plt.xlabel('Predicted Price', size=15)\n",
    "plt.title('Actual vs Predicted Prices (Random Forest)', size=18);\n",
    "plt.savefig('residual_plot', bbox_inches ='tight', dpi = 400)"
   ]
  },
  {
   "cell_type": "code",
   "execution_count": 26,
   "metadata": {},
   "outputs": [
    {
     "data": {
      "image/png": "[encoded data removed]",
      "text/plain": [
       "<Figure size 720x720 with 1 Axes>"
      ]
     },
     "metadata": {},
     "output_type": "display_data"
    }
   ],
   "source": [
    "feature_importance = pd.DataFrame(list(zip(list(X_train.columns),g_est.best_estimator_['rf'].feature_importances_)),\n",
    "                                  columns=['variable', 'scaled_importance']).sort_values(by='scaled_importance', ascending=False)\n",
    "sns.set(font_scale=1.5)\n",
    "fig, ax = plt.subplots(figsize=(10, 10))\n",
    "sns.barplot(x='scaled_importance', y='variable', data=feature_importance.iloc[0:16])\n",
    "plt.show()"
   ]
  },
  {
   "cell_type": "code",
   "execution_count": 85,
   "metadata": {
    "scrolled": true
   },
   "outputs": [
    {
     "data": {
      "text/plain": [
       "array([1.11215207e-02, 1.41903554e-02, 6.18675688e-02, 4.85563831e-02,\n",
       "       2.76625844e-01, 7.32321781e-02, 3.35147468e-02, 2.89562443e-02,\n",
       "       4.48921980e-02, 9.48497399e-02, 1.36554085e-02, 9.72836343e-03,\n",
       "       1.75088860e-03, 3.02595294e-03, 1.45976348e-04, 1.40630589e-03,\n",
       "       6.08195571e-03, 9.18264045e-04, 7.95308208e-04, 1.44347482e-03,\n",
       "       5.46714063e-04, 9.39634270e-03, 7.07052565e-04, 7.14823452e-04,\n",
       "       2.41652218e-02, 2.17199895e-03, 3.64402544e-04, 4.73162274e-04,\n",
       "       3.85711451e-03, 2.09359565e-03, 1.23454482e-03, 6.19916970e-04,\n",
       "       3.50575728e-03, 2.02574254e-03, 1.43437310e-03, 1.06945774e-03,\n",
       "       2.04666867e-04, 1.87551844e-03, 2.63059275e-03, 7.95937002e-04,\n",
       "       1.00210966e-03, 8.43294157e-05, 1.45102313e-04, 9.49487081e-06,\n",
       "       1.04248269e-03, 4.38540080e-04, 2.58227219e-03, 1.41192716e-04,\n",
       "       9.63236801e-04, 2.26650167e-03, 3.08930669e-03, 9.50548068e-04,\n",
       "       1.56476837e-04, 2.17435009e-03, 1.28154550e-03, 5.65915621e-04,\n",
       "       4.00292698e-04, 8.22653282e-05, 1.34517579e-03, 3.21290634e-03,\n",
       "       5.62709002e-04, 1.06181828e-03, 3.40297124e-03, 1.54240050e-03,\n",
       "       2.20731434e-03, 2.68112128e-04, 9.90729779e-04, 2.70867596e-03,\n",
       "       2.19855170e-04, 2.83279906e-03, 8.52458297e-03, 3.14222025e-04,\n",
       "       5.27778694e-03, 7.31210226e-04, 1.32763381e-03, 1.18637303e-04,\n",
       "       1.17343032e-03, 6.81029537e-04, 7.49241325e-04, 2.55524997e-05,\n",
       "       6.00318054e-04, 9.99674310e-04, 7.49261721e-04, 5.98094278e-04,\n",
       "       7.54080888e-03, 2.79946316e-04, 2.12320785e-03, 4.16220262e-03,\n",
       "       3.09175680e-03, 4.47926599e-03, 6.45593101e-04, 6.24111846e-04,\n",
       "       4.78610590e-03, 5.36679297e-04, 7.25047583e-03, 1.24316534e-03,\n",
       "       3.06197147e-03, 9.56683512e-04, 7.15990998e-04, 2.38663996e-04,\n",
       "       8.17526787e-02, 1.96529450e-03, 5.33800197e-03, 1.20529083e-03,\n",
       "       8.52465186e-03, 7.36031879e-03, 5.86941420e-03])"
      ]
     },
     "execution_count": 85,
     "metadata": {},
     "output_type": "execute_result"
    }
   ],
   "source": [
    "g_est.best_estimator_['rf'].feature_importances_"
   ]
  },
  {
   "cell_type": "code",
   "execution_count": 90,
   "metadata": {},
   "outputs": [
    {
     "data": {
      "text/html": [
       "<div>\n",
       "<style scoped>\n",
       "    .dataframe tbody tr th:only-of-type {\n",
       "        vertical-align: middle;\n",
       "    }\n",
       "\n",
       "    .dataframe tbody tr th {\n",
       "        vertical-align: top;\n",
       "    }\n",
       "\n",
       "    .dataframe thead th {\n",
       "        text-align: right;\n",
       "    }\n",
       "</style>\n",
       "<table border=\"1\" class=\"dataframe\">\n",
       "  <thead>\n",
       "    <tr style=\"text-align: right;\">\n",
       "      <th></th>\n",
       "      <th>borough</th>\n",
       "      <th>instant_bookable</th>\n",
       "      <th>room_type</th>\n",
       "      <th>property_type</th>\n",
       "      <th>host_is_superhost</th>\n",
       "      <th>host_total_listings_count</th>\n",
       "      <th>accommodates</th>\n",
       "      <th>bedrooms</th>\n",
       "      <th>bathrooms</th>\n",
       "      <th>minimum_nights</th>\n",
       "      <th>maximum_nights</th>\n",
       "      <th>security_deposit</th>\n",
       "      <th>cleaning_fee</th>\n",
       "      <th>coffee_machine</th>\n",
       "      <th>outdoor_space</th>\n",
       "    </tr>\n",
       "  </thead>\n",
       "  <tbody>\n",
       "    <tr>\n",
       "      <th>0</th>\n",
       "      <td>Madrona</td>\n",
       "      <td>1</td>\n",
       "      <td>Entire home/apt</td>\n",
       "      <td>House</td>\n",
       "      <td>1</td>\n",
       "      <td>2.0</td>\n",
       "      <td>9</td>\n",
       "      <td>4.0</td>\n",
       "      <td>2.5</td>\n",
       "      <td>1</td>\n",
       "      <td>1125</td>\n",
       "      <td>500.0</td>\n",
       "      <td>250.0</td>\n",
       "      <td>1.0</td>\n",
       "      <td>1.0</td>\n",
       "    </tr>\n",
       "    <tr>\n",
       "      <th>1</th>\n",
       "      <td>Georgetown</td>\n",
       "      <td>0</td>\n",
       "      <td>Private room</td>\n",
       "      <td>Apartment</td>\n",
       "      <td>1</td>\n",
       "      <td>8.0</td>\n",
       "      <td>2</td>\n",
       "      <td>1.0</td>\n",
       "      <td>3.0</td>\n",
       "      <td>2</td>\n",
       "      <td>180</td>\n",
       "      <td>100.0</td>\n",
       "      <td>20.0</td>\n",
       "      <td>1.0</td>\n",
       "      <td>0.0</td>\n",
       "    </tr>\n",
       "    <tr>\n",
       "      <th>2</th>\n",
       "      <td>Fairmount Park</td>\n",
       "      <td>0</td>\n",
       "      <td>Entire home/apt</td>\n",
       "      <td>House</td>\n",
       "      <td>1</td>\n",
       "      <td>2.0</td>\n",
       "      <td>4</td>\n",
       "      <td>2.0</td>\n",
       "      <td>1.0</td>\n",
       "      <td>3</td>\n",
       "      <td>730</td>\n",
       "      <td>400.0</td>\n",
       "      <td>120.0</td>\n",
       "      <td>1.0</td>\n",
       "      <td>1.0</td>\n",
       "    </tr>\n",
       "    <tr>\n",
       "      <th>3</th>\n",
       "      <td>Fairmount Park</td>\n",
       "      <td>0</td>\n",
       "      <td>Entire home/apt</td>\n",
       "      <td>Other</td>\n",
       "      <td>1</td>\n",
       "      <td>2.0</td>\n",
       "      <td>3</td>\n",
       "      <td>2.0</td>\n",
       "      <td>1.0</td>\n",
       "      <td>2</td>\n",
       "      <td>365</td>\n",
       "      <td>400.0</td>\n",
       "      <td>95.0</td>\n",
       "      <td>1.0</td>\n",
       "      <td>1.0</td>\n",
       "    </tr>\n",
       "    <tr>\n",
       "      <th>4</th>\n",
       "      <td>Wallingford</td>\n",
       "      <td>0</td>\n",
       "      <td>Entire home/apt</td>\n",
       "      <td>Apartment</td>\n",
       "      <td>0</td>\n",
       "      <td>5.0</td>\n",
       "      <td>4</td>\n",
       "      <td>1.0</td>\n",
       "      <td>1.0</td>\n",
       "      <td>30</td>\n",
       "      <td>60</td>\n",
       "      <td>200.0</td>\n",
       "      <td>85.0</td>\n",
       "      <td>1.0</td>\n",
       "      <td>1.0</td>\n",
       "    </tr>\n",
       "  </tbody>\n",
       "</table>\n",
       "</div>"
      ],
      "text/plain": [
       "          borough  instant_bookable        room_type property_type  \\\n",
       "0         Madrona                 1  Entire home/apt         House   \n",
       "1      Georgetown                 0     Private room     Apartment   \n",
       "2  Fairmount Park                 0  Entire home/apt         House   \n",
       "3  Fairmount Park                 0  Entire home/apt         Other   \n",
       "4     Wallingford                 0  Entire home/apt     Apartment   \n",
       "\n",
       "   host_is_superhost  host_total_listings_count  accommodates  bedrooms  \\\n",
       "0                  1                        2.0             9       4.0   \n",
       "1                  1                        8.0             2       1.0   \n",
       "2                  1                        2.0             4       2.0   \n",
       "3                  1                        2.0             3       2.0   \n",
       "4                  0                        5.0             4       1.0   \n",
       "\n",
       "   bathrooms  minimum_nights  maximum_nights  security_deposit  cleaning_fee  \\\n",
       "0        2.5               1            1125             500.0         250.0   \n",
       "1        3.0               2             180             100.0          20.0   \n",
       "2        1.0               3             730             400.0         120.0   \n",
       "3        1.0               2             365             400.0          95.0   \n",
       "4        1.0              30              60             200.0          85.0   \n",
       "\n",
       "   coffee_machine  outdoor_space  \n",
       "0             1.0            1.0  \n",
       "1             1.0            0.0  \n",
       "2             1.0            1.0  \n",
       "3             1.0            1.0  \n",
       "4             1.0            1.0  "
      ]
     },
     "execution_count": 90,
     "metadata": {},
     "output_type": "execute_result"
    }
   ],
   "source": [
    "X.head()"
   ]
  },
  {
   "cell_type": "code",
   "execution_count": 21,
   "metadata": {},
   "outputs": [],
   "source": [
    "def predict_price(inputs):\n",
    "    df = pd.DataFrame(data=np.array(inputs).reshape(1,15), columns=[\"A\", \"B\"])\n",
    "    return g_est.predict(np.array(inputs).reshape(1,15))"
   ]
  },
  {
   "cell_type": "code",
   "execution_count": 137,
   "metadata": {},
   "outputs": [],
   "source": [
    "inputs = ['Georgetown', 1, 'Entire home/apt', 'House', 0, 0, 6, 3, 2, 2, 20, 200, 50, 1, 0]\n"
   ]
  },
  {
   "cell_type": "code",
   "execution_count": 140,
   "metadata": {},
   "outputs": [
    {
     "data": {
      "text/plain": [
       "['borough',\n",
       " 'instant_bookable',\n",
       " 'room_type',\n",
       " 'property_type',\n",
       " 'host_is_superhost',\n",
       " 'host_total_listings_count',\n",
       " 'accommodates',\n",
       " 'bedrooms',\n",
       " 'bathrooms',\n",
       " 'minimum_nights',\n",
       " 'maximum_nights',\n",
       " 'security_deposit',\n",
       " 'cleaning_fee',\n",
       " 'coffee_machine',\n",
       " 'outdoor_space']"
      ]
     },
     "execution_count": 140,
     "metadata": {},
     "output_type": "execute_result"
    }
   ],
   "source": [
    "list(X.columns)"
   ]
  },
  {
   "cell_type": "code",
   "execution_count": 143,
   "metadata": {
    "scrolled": true
   },
   "outputs": [],
   "source": [
    "data = pd.DataFrame([inputs], columns=list(X.columns))"
   ]
  },
  {
   "cell_type": "code",
   "execution_count": 111,
   "metadata": {},
   "outputs": [
    {
     "data": {
      "text/plain": [
       "[array([0., 0., 0., 0., 0., 0., 0., 0., 0., 0., 0., 0., 0., 0., 0.])]"
      ]
     },
     "execution_count": 111,
     "metadata": {},
     "output_type": "execute_result"
    }
   ],
   "source": [
    "[np.zeros(len(X.columns))]"
   ]
  },
  {
   "cell_type": "code",
   "execution_count": 124,
   "metadata": {},
   "outputs": [
    {
     "data": {
      "text/plain": [
       "array([['Georgetown', '1', 'Entire home/apt', 'House', '0', '0', '6',\n",
       "        '3', '2', '2', '20', '200', '50', '1', '0']], dtype='<U15')"
      ]
     },
     "execution_count": 124,
     "metadata": {},
     "output_type": "execute_result"
    }
   ],
   "source": [
    "np.array(inputs).reshape(1,15)"
   ]
  },
  {
   "cell_type": "code",
   "execution_count": 130,
   "metadata": {},
   "outputs": [
    {
     "data": {
      "text/plain": [
       "borough                      West Queen Anne\n",
       "instant_bookable                           0\n",
       "room_type                    Entire home/apt\n",
       "property_type                          House\n",
       "host_is_superhost                          0\n",
       "host_total_listings_count                  3\n",
       "accommodates                               6\n",
       "bedrooms                                   3\n",
       "bathrooms                                  2\n",
       "minimum_nights                             2\n",
       "maximum_nights                          1125\n",
       "security_deposit                        2000\n",
       "cleaning_fee                             200\n",
       "coffee_machine                             1\n",
       "outdoor_space                              1\n",
       "Name: 61, dtype: object"
      ]
     },
     "execution_count": 130,
     "metadata": {},
     "output_type": "execute_result"
    }
   ],
   "source": [
    "X.iloc[60, :]"
   ]
  },
  {
   "cell_type": "code",
   "execution_count": 1,
   "metadata": {},
   "outputs": [
    {
     "ename": "NameError",
     "evalue": "name 'g_est' is not defined",
     "output_type": "error",
     "traceback": [
      "\u001b[0;31m---------------------------------------------------------------------------\u001b[0m",
      "\u001b[0;31mNameError\u001b[0m                                 Traceback (most recent call last)",
      "\u001b[0;32m<ipython-input-1-b89d3a47b9f5>\u001b[0m in \u001b[0;36m<module>\u001b[0;34m\u001b[0m\n\u001b[0;32m----> 1\u001b[0;31m \u001b[0mg_est\u001b[0m\u001b[0;34m.\u001b[0m\u001b[0mpredict\u001b[0m\u001b[0;34m(\u001b[0m\u001b[0mdata\u001b[0m\u001b[0;34m)\u001b[0m\u001b[0;34m[\u001b[0m\u001b[0;36m0\u001b[0m\u001b[0;34m]\u001b[0m\u001b[0;34m\u001b[0m\u001b[0;34m\u001b[0m\u001b[0m\n\u001b[0m",
      "\u001b[0;31mNameError\u001b[0m: name 'g_est' is not defined"
     ]
    }
   ],
   "source": [
    "g_est.predict(data)[0]"
   ]
  },
  {
   "cell_type": "code",
   "execution_count": 147,
   "metadata": {},
   "outputs": [],
   "source": [
    "with open('airbnb_price_model.pickle', 'wb') as f:\n",
    "    pickle.dump(g_est, f)"
   ]
  },
  {
   "cell_type": "code",
   "execution_count": 152,
   "metadata": {},
   "outputs": [],
   "source": [
    "import json\n",
    "columns = {\n",
    "    'borough': list(X.borough.unique()),\n",
    "    'instant_bookable': [0, 1],\n",
    "    'room_type': list(X.room_type.unique()),\n",
    "    'property_type': list(X.property_type.unique()),\n",
    "    'host_is_superhost': [0, 1],\n",
    "    'coffee_machine': [0, 1],\n",
    "    'outdoor_space': [0, 1]\n",
    "}\n",
    "with open('columns.json', 'w') as f:\n",
    "    f.write(json.dumps(columns))"
   ]
  },
  {
   "cell_type": "code",
   "execution_count": 153,
   "metadata": {},
   "outputs": [
    {
     "data": {
      "text/plain": [
       "{'borough': ['Madrona',\n",
       "  'Georgetown',\n",
       "  'Fairmount Park',\n",
       "  'Wallingford',\n",
       "  'Green Lake',\n",
       "  'Belltown',\n",
       "  'Adams',\n",
       "  'Whittier Heights',\n",
       "  'Broadway',\n",
       "  'Loyal Heights',\n",
       "  'Mid-Beacon Hill',\n",
       "  'Windermere',\n",
       "  'West Woodland',\n",
       "  'Seward Park',\n",
       "  'Alki',\n",
       "  'Stevens',\n",
       "  'North Admiral',\n",
       "  'Fremont',\n",
       "  'Leschi',\n",
       "  'Harrison/Denny-Blaine',\n",
       "  'North Beacon Hill',\n",
       "  'Mann',\n",
       "  'Portage Bay',\n",
       "  'Phinney Ridge',\n",
       "  'View Ridge',\n",
       "  'Crown Hill',\n",
       "  'Columbia City',\n",
       "  'Matthews Beach',\n",
       "  'North Queen Anne',\n",
       "  'West Queen Anne',\n",
       "  'North Beach/Blue Ridge',\n",
       "  'First Hill',\n",
       "  'Eastlake',\n",
       "  'Atlantic',\n",
       "  'Arbor Heights',\n",
       "  'International District',\n",
       "  'Greenwood',\n",
       "  'Wedgwood',\n",
       "  'Sunset Hill',\n",
       "  'Cedar Park',\n",
       "  'Pike-Market',\n",
       "  'Riverview',\n",
       "  'Lower Queen Anne',\n",
       "  'Mount Baker',\n",
       "  'Genesee',\n",
       "  'Central Business District',\n",
       "  'Fauntleroy',\n",
       "  'Bryant',\n",
       "  'University District',\n",
       "  'Minor',\n",
       "  'South Delridge',\n",
       "  'Broadview',\n",
       "  'Madison Park',\n",
       "  'Maple Leaf',\n",
       "  'Pioneer Square',\n",
       "  'Ravenna',\n",
       "  'Highland Park',\n",
       "  'Brighton',\n",
       "  'Montlake',\n",
       "  'Haller Lake',\n",
       "  'Westlake',\n",
       "  'Victory Heights',\n",
       "  'North Delridge',\n",
       "  'Roosevelt',\n",
       "  'Gatewood',\n",
       "  'Lawton Park',\n",
       "  'East Queen Anne',\n",
       "  'North College Park',\n",
       "  'Bitter Lake',\n",
       "  'Briarcliff',\n",
       "  'Southeast Magnolia',\n",
       "  'Interbay',\n",
       "  'Industrial District',\n",
       "  'Seaview',\n",
       "  'High Point',\n",
       "  'Yesler Terrace',\n",
       "  'Rainier Beach',\n",
       "  'Holly Park',\n",
       "  'Laurelhurst',\n",
       "  'South Lake Union',\n",
       "  'Rainier View',\n",
       "  'Pinehurst',\n",
       "  'Dunlap',\n",
       "  'Olympic Hills',\n",
       "  'Meadowbrook',\n",
       "  'South Beacon Hill',\n",
       "  'South Park',\n",
       "  'Roxhill'],\n",
       " 'instant_bookable': [0, 1],\n",
       " 'room_type': ['Entire home/apt', 'Private room', 'Shared room', 'Hotel room'],\n",
       " 'property_type': ['House', 'Apartment', 'Other'],\n",
       " 'host_is_superhost': [0, 1],\n",
       " 'coffee_machine': [0, 1],\n",
       " 'outdoor_space': [0, 1]}"
      ]
     },
     "execution_count": 153,
     "metadata": {},
     "output_type": "execute_result"
    }
   ],
   "source": [
    "columns"
   ]
  },
  {
   "cell_type": "code",
   "execution_count": 154,
   "metadata": {},
   "outputs": [],
   "source": [
    "with open('./static/columns.json', 'r') as f:\n",
    "        __data_columns = json.load(f)"
   ]
  },
  {
   "cell_type": "code",
   "execution_count": 155,
   "metadata": {},
   "outputs": [
    {
     "data": {
      "text/plain": [
       "{'borough': ['Madrona',\n",
       "  'Georgetown',\n",
       "  'Fairmount Park',\n",
       "  'Wallingford',\n",
       "  'Green Lake',\n",
       "  'Belltown',\n",
       "  'Adams',\n",
       "  'Whittier Heights',\n",
       "  'Broadway',\n",
       "  'Loyal Heights',\n",
       "  'Mid-Beacon Hill',\n",
       "  'Windermere',\n",
       "  'West Woodland',\n",
       "  'Seward Park',\n",
       "  'Alki',\n",
       "  'Stevens',\n",
       "  'North Admiral',\n",
       "  'Fremont',\n",
       "  'Leschi',\n",
       "  'Harrison/Denny-Blaine',\n",
       "  'North Beacon Hill',\n",
       "  'Mann',\n",
       "  'Portage Bay',\n",
       "  'Phinney Ridge',\n",
       "  'View Ridge',\n",
       "  'Crown Hill',\n",
       "  'Columbia City',\n",
       "  'Matthews Beach',\n",
       "  'North Queen Anne',\n",
       "  'West Queen Anne',\n",
       "  'North Beach/Blue Ridge',\n",
       "  'First Hill',\n",
       "  'Eastlake',\n",
       "  'Atlantic',\n",
       "  'Arbor Heights',\n",
       "  'International District',\n",
       "  'Greenwood',\n",
       "  'Wedgwood',\n",
       "  'Sunset Hill',\n",
       "  'Cedar Park',\n",
       "  'Pike-Market',\n",
       "  'Riverview',\n",
       "  'Lower Queen Anne',\n",
       "  'Mount Baker',\n",
       "  'Genesee',\n",
       "  'Central Business District',\n",
       "  'Fauntleroy',\n",
       "  'Bryant',\n",
       "  'University District',\n",
       "  'Minor',\n",
       "  'South Delridge',\n",
       "  'Broadview',\n",
       "  'Madison Park',\n",
       "  'Maple Leaf',\n",
       "  'Pioneer Square',\n",
       "  'Ravenna',\n",
       "  'Highland Park',\n",
       "  'Brighton',\n",
       "  'Montlake',\n",
       "  'Haller Lake',\n",
       "  'Westlake',\n",
       "  'Victory Heights',\n",
       "  'North Delridge',\n",
       "  'Roosevelt',\n",
       "  'Gatewood',\n",
       "  'Lawton Park',\n",
       "  'East Queen Anne',\n",
       "  'North College Park',\n",
       "  'Bitter Lake',\n",
       "  'Briarcliff',\n",
       "  'Southeast Magnolia',\n",
       "  'Interbay',\n",
       "  'Industrial District',\n",
       "  'Seaview',\n",
       "  'High Point',\n",
       "  'Yesler Terrace',\n",
       "  'Rainier Beach',\n",
       "  'Holly Park',\n",
       "  'Laurelhurst',\n",
       "  'South Lake Union',\n",
       "  'Rainier View',\n",
       "  'Pinehurst',\n",
       "  'Dunlap',\n",
       "  'Olympic Hills',\n",
       "  'Meadowbrook',\n",
       "  'South Beacon Hill',\n",
       "  'South Park',\n",
       "  'Roxhill'],\n",
       " 'instant_bookable': [0, 1],\n",
       " 'room_type': ['Entire home/apt', 'Private room', 'Shared room', 'Hotel room'],\n",
       " 'property_type': ['House', 'Apartment', 'Other'],\n",
       " 'host_is_superhost': [0, 1],\n",
       " 'coffee_machine': [0, 1],\n",
       " 'outdoor_space': [0, 1]}"
      ]
     },
     "execution_count": 155,
     "metadata": {},
     "output_type": "execute_result"
    }
   ],
   "source": [
    "__data_columns"
   ]
  },
  {
   "cell_type": "code",
   "execution_count": 5,
   "metadata": {},
   "outputs": [],
   "source": [
    "with open('static/airbnb_price_model.pickle', 'rb') as f:\n",
    "    rf_model = pickle.load(f)"
   ]
  },
  {
   "cell_type": "code",
   "execution_count": 12,
   "metadata": {},
   "outputs": [
    {
     "data": {
      "text/plain": [
       "{'rf__max_depth': 25,\n",
       " 'rf__min_samples_leaf': 1,\n",
       " 'rf__min_samples_split': 2,\n",
       " 'rf__n_estimators': 500}"
      ]
     },
     "execution_count": 12,
     "metadata": {},
     "output_type": "execute_result"
    }
   ],
   "source": [
    "rf_model.best_params_"
   ]
  },
  {
   "cell_type": "code",
   "execution_count": null,
   "metadata": {},
   "outputs": [],
   "source": []
  }
 ],
 "metadata": {
  "kernelspec": {
   "display_name": "Python 3",
   "language": "python",
   "name": "python3"
  },
  "language_info": {
   "codemirror_mode": {
    "name": "ipython",
    "version": 3
   },
   "file_extension": ".py",
   "mimetype": "text/x-python",
   "name": "python",
   "nbconvert_exporter": "python",
   "pygments_lexer": "ipython3",
   "version": "3.8.3"
  },
  "latex_envs": {
   "LaTeX_envs_menu_present": true,
   "autoclose": false,
   "autocomplete": true,
   "bibliofile": "biblio.bib",
   "cite_by": "apalike",
   "current_citInitial": 1,
   "eqLabelWithNumbers": true,
   "eqNumInitial": 1,
   "hotkeys": {
    "equation": "Ctrl-E",
    "itemize": "Ctrl-I"
   },
   "labels_anchors": false,
   "latex_user_defs": false,
   "report_style_numbering": false,
   "user_envs_cfg": false
  },
  "varInspector": {
   "cols": {
    "lenName": 16,
    "lenType": 16,
    "lenVar": 40
   },
   "kernels_config": {
    "python": {
     "delete_cmd_postfix": "",
     "delete_cmd_prefix": "del ",
     "library": "var_list.py",
     "varRefreshCmd": "print(var_dic_list())"
    },
    "r": {
     "delete_cmd_postfix": ") ",
     "delete_cmd_prefix": "rm(",
     "library": "var_list.r",
     "varRefreshCmd": "cat(var_dic_list()) "
    }
   },
   "types_to_exclude": [
    "module",
    "function",
    "builtin_function_or_method",
    "instance",
    "_Feature"
   ],
   "window_display": false
  }
 },
 "nbformat": 4,
 "nbformat_minor": 4
}
